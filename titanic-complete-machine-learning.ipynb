{
 "cells": [
  {
   "cell_type": "code",
   "execution_count": 1,
   "id": "2956f5a0",
   "metadata": {
    "_cell_guid": "b1076dfc-b9ad-4769-8c92-a6c4dae69d19",
    "_uuid": "8f2839f25d086af736a60e9eeb907d3b93b6e0e5",
    "execution": {
     "iopub.execute_input": "2022-06-08T16:08:06.011761Z",
     "iopub.status.busy": "2022-06-08T16:08:06.010779Z",
     "iopub.status.idle": "2022-06-08T16:08:06.026007Z",
     "shell.execute_reply": "2022-06-08T16:08:06.024423Z"
    },
    "papermill": {
     "duration": 0.033632,
     "end_time": "2022-06-08T16:08:06.029219",
     "exception": false,
     "start_time": "2022-06-08T16:08:05.995587",
     "status": "completed"
    },
    "tags": []
   },
   "outputs": [
    {
     "name": "stdout",
     "output_type": "stream",
     "text": [
      "/kaggle/input/titanic/train.csv\n",
      "/kaggle/input/titanic/test.csv\n",
      "/kaggle/input/titanic/gender_submission.csv\n"
     ]
    }
   ],
   "source": [
    "# This Python 3 environment comes with many helpful analytics libraries installed\n",
    "# It is defined by the kaggle/python Docker image: https://github.com/kaggle/docker-python\n",
    "# For example, here's several helpful packages to load\n",
    "\n",
    "import numpy as np # linear algebra\n",
    "import pandas as pd # data processing, CSV file I/O (e.g. pd.read_csv)\n",
    "\n",
    "# Input data files are available in the read-only \"../input/\" directory\n",
    "# For example, running this (by clicking run or pressing Shift+Enter) will list all files under the input directory\n",
    "\n",
    "import os\n",
    "for dirname, _, filenames in os.walk('/kaggle/input'):\n",
    "    for filename in filenames:\n",
    "        print(os.path.join(dirname, filename))\n",
    "\n",
    "# You can write up to 20GB to the current directory (/kaggle/working/) that gets preserved as output when you create a version using \"Save & Run All\" \n",
    "# You can also write temporary files to /kaggle/temp/, but they won't be saved outside of the current session"
   ]
  },
  {
   "cell_type": "code",
   "execution_count": 2,
   "id": "b3067ad6",
   "metadata": {
    "execution": {
     "iopub.execute_input": "2022-06-08T16:08:06.053726Z",
     "iopub.status.busy": "2022-06-08T16:08:06.052209Z",
     "iopub.status.idle": "2022-06-08T16:08:06.112732Z",
     "shell.execute_reply": "2022-06-08T16:08:06.111006Z"
    },
    "papermill": {
     "duration": 0.074819,
     "end_time": "2022-06-08T16:08:06.115243",
     "exception": false,
     "start_time": "2022-06-08T16:08:06.040424",
     "status": "completed"
    },
    "tags": []
   },
   "outputs": [
    {
     "data": {
      "text/html": [
       "<div>\n",
       "<style scoped>\n",
       "    .dataframe tbody tr th:only-of-type {\n",
       "        vertical-align: middle;\n",
       "    }\n",
       "\n",
       "    .dataframe tbody tr th {\n",
       "        vertical-align: top;\n",
       "    }\n",
       "\n",
       "    .dataframe thead th {\n",
       "        text-align: right;\n",
       "    }\n",
       "</style>\n",
       "<table border=\"1\" class=\"dataframe\">\n",
       "  <thead>\n",
       "    <tr style=\"text-align: right;\">\n",
       "      <th></th>\n",
       "      <th>PassengerId</th>\n",
       "      <th>Survived</th>\n",
       "      <th>Pclass</th>\n",
       "      <th>Name</th>\n",
       "      <th>Sex</th>\n",
       "      <th>Age</th>\n",
       "      <th>SibSp</th>\n",
       "      <th>Parch</th>\n",
       "      <th>Ticket</th>\n",
       "      <th>Fare</th>\n",
       "      <th>Cabin</th>\n",
       "      <th>Embarked</th>\n",
       "    </tr>\n",
       "  </thead>\n",
       "  <tbody>\n",
       "    <tr>\n",
       "      <th>0</th>\n",
       "      <td>1</td>\n",
       "      <td>0</td>\n",
       "      <td>3</td>\n",
       "      <td>Braund, Mr. Owen Harris</td>\n",
       "      <td>male</td>\n",
       "      <td>22.0</td>\n",
       "      <td>1</td>\n",
       "      <td>0</td>\n",
       "      <td>A/5 21171</td>\n",
       "      <td>7.2500</td>\n",
       "      <td>NaN</td>\n",
       "      <td>S</td>\n",
       "    </tr>\n",
       "    <tr>\n",
       "      <th>1</th>\n",
       "      <td>2</td>\n",
       "      <td>1</td>\n",
       "      <td>1</td>\n",
       "      <td>Cumings, Mrs. John Bradley (Florence Briggs Th...</td>\n",
       "      <td>female</td>\n",
       "      <td>38.0</td>\n",
       "      <td>1</td>\n",
       "      <td>0</td>\n",
       "      <td>PC 17599</td>\n",
       "      <td>71.2833</td>\n",
       "      <td>C85</td>\n",
       "      <td>C</td>\n",
       "    </tr>\n",
       "    <tr>\n",
       "      <th>2</th>\n",
       "      <td>3</td>\n",
       "      <td>1</td>\n",
       "      <td>3</td>\n",
       "      <td>Heikkinen, Miss. Laina</td>\n",
       "      <td>female</td>\n",
       "      <td>26.0</td>\n",
       "      <td>0</td>\n",
       "      <td>0</td>\n",
       "      <td>STON/O2. 3101282</td>\n",
       "      <td>7.9250</td>\n",
       "      <td>NaN</td>\n",
       "      <td>S</td>\n",
       "    </tr>\n",
       "    <tr>\n",
       "      <th>3</th>\n",
       "      <td>4</td>\n",
       "      <td>1</td>\n",
       "      <td>1</td>\n",
       "      <td>Futrelle, Mrs. Jacques Heath (Lily May Peel)</td>\n",
       "      <td>female</td>\n",
       "      <td>35.0</td>\n",
       "      <td>1</td>\n",
       "      <td>0</td>\n",
       "      <td>113803</td>\n",
       "      <td>53.1000</td>\n",
       "      <td>C123</td>\n",
       "      <td>S</td>\n",
       "    </tr>\n",
       "    <tr>\n",
       "      <th>4</th>\n",
       "      <td>5</td>\n",
       "      <td>0</td>\n",
       "      <td>3</td>\n",
       "      <td>Allen, Mr. William Henry</td>\n",
       "      <td>male</td>\n",
       "      <td>35.0</td>\n",
       "      <td>0</td>\n",
       "      <td>0</td>\n",
       "      <td>373450</td>\n",
       "      <td>8.0500</td>\n",
       "      <td>NaN</td>\n",
       "      <td>S</td>\n",
       "    </tr>\n",
       "  </tbody>\n",
       "</table>\n",
       "</div>"
      ],
      "text/plain": [
       "   PassengerId  Survived  Pclass  \\\n",
       "0            1         0       3   \n",
       "1            2         1       1   \n",
       "2            3         1       3   \n",
       "3            4         1       1   \n",
       "4            5         0       3   \n",
       "\n",
       "                                                Name     Sex   Age  SibSp  \\\n",
       "0                            Braund, Mr. Owen Harris    male  22.0      1   \n",
       "1  Cumings, Mrs. John Bradley (Florence Briggs Th...  female  38.0      1   \n",
       "2                             Heikkinen, Miss. Laina  female  26.0      0   \n",
       "3       Futrelle, Mrs. Jacques Heath (Lily May Peel)  female  35.0      1   \n",
       "4                           Allen, Mr. William Henry    male  35.0      0   \n",
       "\n",
       "   Parch            Ticket     Fare Cabin Embarked  \n",
       "0      0         A/5 21171   7.2500   NaN        S  \n",
       "1      0          PC 17599  71.2833   C85        C  \n",
       "2      0  STON/O2. 3101282   7.9250   NaN        S  \n",
       "3      0            113803  53.1000  C123        S  \n",
       "4      0            373450   8.0500   NaN        S  "
      ]
     },
     "execution_count": 2,
     "metadata": {},
     "output_type": "execute_result"
    }
   ],
   "source": [
    "df_train = pd.read_csv('../input/titanic/train.csv')\n",
    "df_test = pd.read_csv('../input/titanic/test.csv')\n",
    "\n",
    "df_train.head()"
   ]
  },
  {
   "cell_type": "code",
   "execution_count": 3,
   "id": "a9d9d1fd",
   "metadata": {
    "execution": {
     "iopub.execute_input": "2022-06-08T16:08:06.138806Z",
     "iopub.status.busy": "2022-06-08T16:08:06.138351Z",
     "iopub.status.idle": "2022-06-08T16:08:06.177177Z",
     "shell.execute_reply": "2022-06-08T16:08:06.175933Z"
    },
    "papermill": {
     "duration": 0.053669,
     "end_time": "2022-06-08T16:08:06.179891",
     "exception": false,
     "start_time": "2022-06-08T16:08:06.126222",
     "status": "completed"
    },
    "tags": []
   },
   "outputs": [
    {
     "name": "stdout",
     "output_type": "stream",
     "text": [
      "<class 'pandas.core.frame.DataFrame'>\n",
      "RangeIndex: 891 entries, 0 to 890\n",
      "Data columns (total 12 columns):\n",
      " #   Column       Non-Null Count  Dtype  \n",
      "---  ------       --------------  -----  \n",
      " 0   PassengerId  891 non-null    int64  \n",
      " 1   Survived     891 non-null    int64  \n",
      " 2   Pclass       891 non-null    int64  \n",
      " 3   Name         891 non-null    object \n",
      " 4   Sex          891 non-null    object \n",
      " 5   Age          714 non-null    float64\n",
      " 6   SibSp        891 non-null    int64  \n",
      " 7   Parch        891 non-null    int64  \n",
      " 8   Ticket       891 non-null    object \n",
      " 9   Fare         891 non-null    float64\n",
      " 10  Cabin        204 non-null    object \n",
      " 11  Embarked     889 non-null    object \n",
      "dtypes: float64(2), int64(5), object(5)\n",
      "memory usage: 83.7+ KB\n"
     ]
    }
   ],
   "source": [
    "df_train.info()"
   ]
  },
  {
   "cell_type": "code",
   "execution_count": 4,
   "id": "7a1e7440",
   "metadata": {
    "execution": {
     "iopub.execute_input": "2022-06-08T16:08:06.206160Z",
     "iopub.status.busy": "2022-06-08T16:08:06.204748Z",
     "iopub.status.idle": "2022-06-08T16:08:06.219501Z",
     "shell.execute_reply": "2022-06-08T16:08:06.218193Z"
    },
    "papermill": {
     "duration": 0.030639,
     "end_time": "2022-06-08T16:08:06.222940",
     "exception": false,
     "start_time": "2022-06-08T16:08:06.192301",
     "status": "completed"
    },
    "tags": []
   },
   "outputs": [
    {
     "data": {
      "text/plain": [
       "PassengerId      0\n",
       "Survived         0\n",
       "Pclass           0\n",
       "Name             0\n",
       "Sex              0\n",
       "Age            177\n",
       "SibSp            0\n",
       "Parch            0\n",
       "Ticket           0\n",
       "Fare             0\n",
       "Cabin          687\n",
       "Embarked         2\n",
       "dtype: int64"
      ]
     },
     "execution_count": 4,
     "metadata": {},
     "output_type": "execute_result"
    }
   ],
   "source": [
    "df_train.isnull().sum()"
   ]
  },
  {
   "cell_type": "markdown",
   "id": "8ac3ffad",
   "metadata": {
    "papermill": {
     "duration": 0.010655,
     "end_time": "2022-06-08T16:08:06.245202",
     "exception": false,
     "start_time": "2022-06-08T16:08:06.234547",
     "status": "completed"
    },
    "tags": []
   },
   "source": [
    "Cabin have a ot of Nan values, we will drop this column\n",
    "We will replace Age Nan values with the age's median and the ones in embarked with'S', which are the most frequent "
   ]
  },
  {
   "cell_type": "code",
   "execution_count": 5,
   "id": "acc7d0b3",
   "metadata": {
    "execution": {
     "iopub.execute_input": "2022-06-08T16:08:06.271730Z",
     "iopub.status.busy": "2022-06-08T16:08:06.271291Z",
     "iopub.status.idle": "2022-06-08T16:08:06.289910Z",
     "shell.execute_reply": "2022-06-08T16:08:06.289095Z"
    },
    "papermill": {
     "duration": 0.034523,
     "end_time": "2022-06-08T16:08:06.292230",
     "exception": false,
     "start_time": "2022-06-08T16:08:06.257707",
     "status": "completed"
    },
    "tags": []
   },
   "outputs": [],
   "source": [
    "df_train.drop('Cabin',axis=1,inplace=True)\n",
    "df_train[\"Age\"].fillna(df_train['Age'].median(),inplace=True)\n",
    "df_train['Embarked'].fillna(\"S\",inplace=True)\n",
    "df_train['Fare'].fillna(df_train['Fare'].mean(), inplace=True)\n",
    "\n",
    "\n",
    "df_test.drop('Cabin',axis=1,inplace=True)\n",
    "df_test[\"Age\"].fillna(df_test['Age'].median(),inplace=True)\n",
    "df_test['Embarked'].fillna(\"S\",inplace=True)\n",
    "df_test['Fare'].fillna(df_test['Fare'].mean(), inplace=True)\n"
   ]
  },
  {
   "cell_type": "markdown",
   "id": "5ca60cce",
   "metadata": {
    "papermill": {
     "duration": 0.011172,
     "end_time": "2022-06-08T16:08:06.315098",
     "exception": false,
     "start_time": "2022-06-08T16:08:06.303926",
     "status": "completed"
    },
    "tags": []
   },
   "source": [
    "### Visualization"
   ]
  },
  {
   "cell_type": "markdown",
   "id": "a198ffd3",
   "metadata": {
    "papermill": {
     "duration": 0.011724,
     "end_time": "2022-06-08T16:08:06.338228",
     "exception": false,
     "start_time": "2022-06-08T16:08:06.326504",
     "status": "completed"
    },
    "tags": []
   },
   "source": [
    "Convert values to categorical (especially Sex)"
   ]
  },
  {
   "cell_type": "code",
   "execution_count": 6,
   "id": "27c54825",
   "metadata": {
    "execution": {
     "iopub.execute_input": "2022-06-08T16:08:06.363613Z",
     "iopub.status.busy": "2022-06-08T16:08:06.363200Z",
     "iopub.status.idle": "2022-06-08T16:08:06.373935Z",
     "shell.execute_reply": "2022-06-08T16:08:06.372769Z"
    },
    "papermill": {
     "duration": 0.026091,
     "end_time": "2022-06-08T16:08:06.376236",
     "exception": false,
     "start_time": "2022-06-08T16:08:06.350145",
     "status": "completed"
    },
    "tags": []
   },
   "outputs": [
    {
     "data": {
      "text/plain": [
       "PassengerId      int64\n",
       "Survived         int64\n",
       "Pclass           int64\n",
       "Name            object\n",
       "Sex             object\n",
       "Age            float64\n",
       "SibSp            int64\n",
       "Parch            int64\n",
       "Ticket          object\n",
       "Fare           float64\n",
       "Embarked        object\n",
       "dtype: object"
      ]
     },
     "execution_count": 6,
     "metadata": {},
     "output_type": "execute_result"
    }
   ],
   "source": [
    "df_train.dtypes"
   ]
  },
  {
   "cell_type": "code",
   "execution_count": 7,
   "id": "5d95143f",
   "metadata": {
    "execution": {
     "iopub.execute_input": "2022-06-08T16:08:06.401163Z",
     "iopub.status.busy": "2022-06-08T16:08:06.400522Z",
     "iopub.status.idle": "2022-06-08T16:08:06.410295Z",
     "shell.execute_reply": "2022-06-08T16:08:06.409506Z"
    },
    "papermill": {
     "duration": 0.025496,
     "end_time": "2022-06-08T16:08:06.413044",
     "exception": false,
     "start_time": "2022-06-08T16:08:06.387548",
     "status": "completed"
    },
    "tags": []
   },
   "outputs": [],
   "source": [
    "df_train['Sex'] = pd.Categorical(df_train['Sex']).codes\n",
    "df_train['Embarked'] = pd.Categorical(df_train['Embarked']).codes\n",
    "\n",
    "df_test['Sex'] = pd.Categorical(df_test['Sex']).codes\n",
    "df_test['Embarked'] = pd.Categorical(df_test['Embarked']).codes"
   ]
  },
  {
   "cell_type": "markdown",
   "id": "36907f36",
   "metadata": {
    "papermill": {
     "duration": 0.01129,
     "end_time": "2022-06-08T16:08:06.435623",
     "exception": false,
     "start_time": "2022-06-08T16:08:06.424333",
     "status": "completed"
    },
    "tags": []
   },
   "source": [
    "function to plot survival against passenger attribute"
   ]
  },
  {
   "cell_type": "code",
   "execution_count": 8,
   "id": "6cefe961",
   "metadata": {
    "execution": {
     "iopub.execute_input": "2022-06-08T16:08:06.460531Z",
     "iopub.status.busy": "2022-06-08T16:08:06.460052Z",
     "iopub.status.idle": "2022-06-08T16:08:06.473198Z",
     "shell.execute_reply": "2022-06-08T16:08:06.472184Z"
    },
    "papermill": {
     "duration": 0.028349,
     "end_time": "2022-06-08T16:08:06.475784",
     "exception": false,
     "start_time": "2022-06-08T16:08:06.447435",
     "status": "completed"
    },
    "tags": []
   },
   "outputs": [],
   "source": [
    "%matplotlib inline\n",
    "import matplotlib.pyplot as plt\n",
    "\n",
    "def survival_rate(column,t):\n",
    "    df = pd.DataFrame()\n",
    "    df['total'] = df_train.groupby(column).size()\n",
    "    df['Survived'] = df_train.groupby(column).sum()['Survived']\n",
    "    df['percentage'] = round(df['Survived']/df['total']*100,2)\n",
    "    #print(df_train)\n",
    "    \n",
    "    df['Survived'].plot(kind=t)\n",
    "    df['total'].plot(kind=t,alpha=0.5, title=\"Survivors per\" +str(column))\n",
    "    plt.show()"
   ]
  },
  {
   "cell_type": "markdown",
   "id": "fbe07649",
   "metadata": {
    "papermill": {
     "duration": 0.01205,
     "end_time": "2022-06-08T16:08:06.499779",
     "exception": false,
     "start_time": "2022-06-08T16:08:06.487729",
     "status": "completed"
    },
    "tags": []
   },
   "source": [
    "Deeper blue are those who survived and lighter blue those who dont"
   ]
  },
  {
   "cell_type": "code",
   "execution_count": 9,
   "id": "e92366fd",
   "metadata": {
    "execution": {
     "iopub.execute_input": "2022-06-08T16:08:06.525256Z",
     "iopub.status.busy": "2022-06-08T16:08:06.523919Z",
     "iopub.status.idle": "2022-06-08T16:08:07.693566Z",
     "shell.execute_reply": "2022-06-08T16:08:07.692395Z"
    },
    "papermill": {
     "duration": 1.185931,
     "end_time": "2022-06-08T16:08:07.697062",
     "exception": false,
     "start_time": "2022-06-08T16:08:06.511131",
     "status": "completed"
    },
    "tags": []
   },
   "outputs": [
    {
     "data": {
      "image/png": "[encoded data removed]",
      "text/plain": [
       "<Figure size 432x288 with 1 Axes>"
      ]
     },
     "metadata": {
      "needs_background": "light"
     },
     "output_type": "display_data"
    },
    {
     "data": {
      "image/png": "[encoded data removed]",
      "text/plain": [
       "<Figure size 432x288 with 1 Axes>"
      ]
     },
     "metadata": {
      "needs_background": "light"
     },
     "output_type": "display_data"
    },
    {
     "data": {
      "image/png": "[encoded data removed]",
      "text/plain": [
       "<Figure size 432x288 with 1 Axes>"
      ]
     },
     "metadata": {
      "needs_background": "light"
     },
     "output_type": "display_data"
    },
    {
     "data": {
      "image/png": "[encoded data removed]",
      "text/plain": [
       "<Figure size 432x288 with 1 Axes>"
      ]
     },
     "metadata": {
      "needs_background": "light"
     },
     "output_type": "display_data"
    },
    {
     "data": {
      "image/png": "[encoded data removed]",
      "text/plain": [
       "<Figure size 432x288 with 1 Axes>"
      ]
     },
     "metadata": {
      "needs_background": "light"
     },
     "output_type": "display_data"
    }
   ],
   "source": [
    "survival_rate(\"Sex\",\"barh\")\n",
    "survival_rate(\"Pclass\",\"barh\")\n",
    "survival_rate(\"Embarked\",\"barh\")\n",
    "survival_rate(\"Parch\",\"barh\")\n",
    "survival_rate(\"SibSp\",\"barh\")"
   ]
  },
  {
   "cell_type": "markdown",
   "id": "7544dd26",
   "metadata": {
    "papermill": {
     "duration": 0.012996,
     "end_time": "2022-06-08T16:08:07.724093",
     "exception": false,
     "start_time": "2022-06-08T16:08:07.711097",
     "status": "completed"
    },
    "tags": []
   },
   "source": [
    "### model training"
   ]
  },
  {
   "cell_type": "code",
   "execution_count": 10,
   "id": "89ef7cbf",
   "metadata": {
    "execution": {
     "iopub.execute_input": "2022-06-08T16:08:07.751156Z",
     "iopub.status.busy": "2022-06-08T16:08:07.750566Z",
     "iopub.status.idle": "2022-06-08T16:08:09.016645Z",
     "shell.execute_reply": "2022-06-08T16:08:09.015637Z"
    },
    "papermill": {
     "duration": 1.282241,
     "end_time": "2022-06-08T16:08:09.019070",
     "exception": false,
     "start_time": "2022-06-08T16:08:07.736829",
     "status": "completed"
    },
    "tags": []
   },
   "outputs": [],
   "source": [
    "from sklearn.model_selection import train_test_split\n",
    "\n",
    "# Our columns for models building\n",
    "predictors = [\"Pclass\",\"Sex\", \"Age\", \"SibSp\", \"Parch\", \"Fare\", \"Embarked\"]\n",
    "\n",
    "X = df_train[predictors]\n",
    "y =  df_train['Survived']\n",
    "\n",
    "X_train, X_test, y_train, y_test = train_test_split(X,y,test_size=0.25,random_state=1)"
   ]
  },
  {
   "cell_type": "markdown",
   "id": "f66bad42",
   "metadata": {
    "papermill": {
     "duration": 0.01215,
     "end_time": "2022-06-08T16:08:09.044269",
     "exception": false,
     "start_time": "2022-06-08T16:08:09.032119",
     "status": "completed"
    },
    "tags": []
   },
   "source": [
    "#### Logistic Regression: "
   ]
  },
  {
   "cell_type": "code",
   "execution_count": 11,
   "id": "2deeabdb",
   "metadata": {
    "execution": {
     "iopub.execute_input": "2022-06-08T16:08:09.072764Z",
     "iopub.status.busy": "2022-06-08T16:08:09.072285Z",
     "iopub.status.idle": "2022-06-08T16:08:09.220121Z",
     "shell.execute_reply": "2022-06-08T16:08:09.219108Z"
    },
    "papermill": {
     "duration": 0.165293,
     "end_time": "2022-06-08T16:08:09.222466",
     "exception": false,
     "start_time": "2022-06-08T16:08:09.057173",
     "status": "completed"
    },
    "tags": []
   },
   "outputs": [
    {
     "name": "stdout",
     "output_type": "stream",
     "text": [
      "train accuracy = 0.8098802395209581\n",
      "test accuracy = 0.7937219730941704\n"
     ]
    }
   ],
   "source": [
    "from sklearn.linear_model import  LogisticRegression\n",
    "clf = LogisticRegression()\n",
    "clf.fit(X_train,y_train)\n",
    "print('train accuracy =',clf.score(X_train,y_train))\n",
    "print('test accuracy =',clf.score(X_test,y_test))"
   ]
  },
  {
   "cell_type": "markdown",
   "id": "ecf429ca",
   "metadata": {
    "papermill": {
     "duration": 0.01184,
     "end_time": "2022-06-08T16:08:09.247447",
     "exception": false,
     "start_time": "2022-06-08T16:08:09.235607",
     "status": "completed"
    },
    "tags": []
   },
   "source": [
    "Let's visualize the probabilities"
   ]
  },
  {
   "cell_type": "code",
   "execution_count": 12,
   "id": "6d148904",
   "metadata": {
    "execution": {
     "iopub.execute_input": "2022-06-08T16:08:09.274355Z",
     "iopub.status.busy": "2022-06-08T16:08:09.273702Z",
     "iopub.status.idle": "2022-06-08T16:08:09.292250Z",
     "shell.execute_reply": "2022-06-08T16:08:09.291438Z"
    },
    "papermill": {
     "duration": 0.034883,
     "end_time": "2022-06-08T16:08:09.294604",
     "exception": false,
     "start_time": "2022-06-08T16:08:09.259721",
     "status": "completed"
    },
    "tags": []
   },
   "outputs": [
    {
     "data": {
      "text/html": [
       "<div>\n",
       "<style scoped>\n",
       "    .dataframe tbody tr th:only-of-type {\n",
       "        vertical-align: middle;\n",
       "    }\n",
       "\n",
       "    .dataframe tbody tr th {\n",
       "        vertical-align: top;\n",
       "    }\n",
       "\n",
       "    .dataframe thead th {\n",
       "        text-align: right;\n",
       "    }\n",
       "</style>\n",
       "<table border=\"1\" class=\"dataframe\">\n",
       "  <thead>\n",
       "    <tr style=\"text-align: right;\">\n",
       "      <th></th>\n",
       "      <th>Survived_original</th>\n",
       "      <th>Survived_predicted</th>\n",
       "      <th>Survived_proba</th>\n",
       "      <th>Comparison</th>\n",
       "    </tr>\n",
       "  </thead>\n",
       "  <tbody>\n",
       "    <tr>\n",
       "      <th>862</th>\n",
       "      <td>1</td>\n",
       "      <td>1</td>\n",
       "      <td>0.844338</td>\n",
       "      <td>True</td>\n",
       "    </tr>\n",
       "    <tr>\n",
       "      <th>223</th>\n",
       "      <td>0</td>\n",
       "      <td>0</td>\n",
       "      <td>0.090806</td>\n",
       "      <td>True</td>\n",
       "    </tr>\n",
       "    <tr>\n",
       "      <th>84</th>\n",
       "      <td>1</td>\n",
       "      <td>1</td>\n",
       "      <td>0.868993</td>\n",
       "      <td>True</td>\n",
       "    </tr>\n",
       "    <tr>\n",
       "      <th>680</th>\n",
       "      <td>0</td>\n",
       "      <td>1</td>\n",
       "      <td>0.634029</td>\n",
       "      <td>False</td>\n",
       "    </tr>\n",
       "    <tr>\n",
       "      <th>535</th>\n",
       "      <td>1</td>\n",
       "      <td>1</td>\n",
       "      <td>0.919585</td>\n",
       "      <td>True</td>\n",
       "    </tr>\n",
       "  </tbody>\n",
       "</table>\n",
       "</div>"
      ],
      "text/plain": [
       "     Survived_original  Survived_predicted  Survived_proba  Comparison\n",
       "862                  1                   1        0.844338        True\n",
       "223                  0                   0        0.090806        True\n",
       "84                   1                   1        0.868993        True\n",
       "680                  0                   1        0.634029       False\n",
       "535                  1                   1        0.919585        True"
      ]
     },
     "execution_count": 12,
     "metadata": {},
     "output_type": "execute_result"
    }
   ],
   "source": [
    "pred = pd.DataFrame({\n",
    "    \"Survived_original\": y_test,\n",
    "    \"Survived_predicted\": clf.predict(X_test),\n",
    "    \"Survived_proba\": np.transpose(clf.predict_proba(X_test))[1]\n",
    "})\n",
    "pred['Comparison'] = pred['Survived_original'] == pred['Survived_predicted']\n",
    "pred.head()"
   ]
  },
  {
   "cell_type": "markdown",
   "id": "3bac23dc",
   "metadata": {
    "papermill": {
     "duration": 0.01236,
     "end_time": "2022-06-08T16:08:09.319654",
     "exception": false,
     "start_time": "2022-06-08T16:08:09.307294",
     "status": "completed"
    },
    "tags": []
   },
   "source": [
    "#### Bagging "
   ]
  },
  {
   "cell_type": "code",
   "execution_count": 13,
   "id": "079ed2a9",
   "metadata": {
    "execution": {
     "iopub.execute_input": "2022-06-08T16:08:09.348871Z",
     "iopub.status.busy": "2022-06-08T16:08:09.348101Z",
     "iopub.status.idle": "2022-06-08T16:08:16.599934Z",
     "shell.execute_reply": "2022-06-08T16:08:16.598886Z"
    },
    "papermill": {
     "duration": 7.270399,
     "end_time": "2022-06-08T16:08:16.602985",
     "exception": false,
     "start_time": "2022-06-08T16:08:09.332586",
     "status": "completed"
    },
    "tags": []
   },
   "outputs": [
    {
     "name": "stdout",
     "output_type": "stream",
     "text": [
      "train accuracy = 0.8143712574850299\n",
      "test accuracy = 0.7892376681614349\n"
     ]
    }
   ],
   "source": [
    "from sklearn.ensemble import BaggingClassifier\n",
    "clf_log = LogisticRegression(random_state=1)\n",
    "clf_bag = BaggingClassifier(base_estimator=clf_log, random_state=1, n_estimators=400, max_samples=0.75, max_features=0.85)\n",
    "clf_bag.fit(X_train,y_train)\n",
    "print('train accuracy =',clf_bag.score(X_train,y_train))\n",
    "print('test accuracy =',clf_bag.score(X_test,y_test))"
   ]
  },
  {
   "cell_type": "markdown",
   "id": "20e51ed3",
   "metadata": {
    "papermill": {
     "duration": 0.013072,
     "end_time": "2022-06-08T16:08:16.630275",
     "exception": false,
     "start_time": "2022-06-08T16:08:16.617203",
     "status": "completed"
    },
    "tags": []
   },
   "source": [
    "#### Decision Tree"
   ]
  },
  {
   "cell_type": "code",
   "execution_count": 14,
   "id": "c89d971a",
   "metadata": {
    "execution": {
     "iopub.execute_input": "2022-06-08T16:08:16.658613Z",
     "iopub.status.busy": "2022-06-08T16:08:16.658188Z",
     "iopub.status.idle": "2022-06-08T16:08:16.676596Z",
     "shell.execute_reply": "2022-06-08T16:08:16.675163Z"
    },
    "papermill": {
     "duration": 0.035945,
     "end_time": "2022-06-08T16:08:16.679704",
     "exception": false,
     "start_time": "2022-06-08T16:08:16.643759",
     "status": "completed"
    },
    "tags": []
   },
   "outputs": [
    {
     "name": "stdout",
     "output_type": "stream",
     "text": [
      "train accuracy = 0.9895209580838323\n",
      "test accuracy = 0.7623318385650224\n"
     ]
    }
   ],
   "source": [
    "from sklearn.tree import DecisionTreeClassifier\n",
    "\n",
    "clf_dt = DecisionTreeClassifier(random_state = 1)\n",
    "clf_dt.fit(X_train,y_train)\n",
    "print('train accuracy =',clf_dt.score(X_train,y_train))\n",
    "print('test accuracy =',clf_dt.score(X_test,y_test))"
   ]
  },
  {
   "cell_type": "markdown",
   "id": "e2e160d9",
   "metadata": {
    "papermill": {
     "duration": 0.013271,
     "end_time": "2022-06-08T16:08:16.706669",
     "exception": false,
     "start_time": "2022-06-08T16:08:16.693398",
     "status": "completed"
    },
    "tags": []
   },
   "source": [
    "#### Random Forest "
   ]
  },
  {
   "cell_type": "code",
   "execution_count": 15,
   "id": "b542c5fd",
   "metadata": {
    "execution": {
     "iopub.execute_input": "2022-06-08T16:08:16.738572Z",
     "iopub.status.busy": "2022-06-08T16:08:16.737789Z",
     "iopub.status.idle": "2022-06-08T16:08:16.817294Z",
     "shell.execute_reply": "2022-06-08T16:08:16.815981Z"
    },
    "papermill": {
     "duration": 0.100189,
     "end_time": "2022-06-08T16:08:16.819985",
     "exception": false,
     "start_time": "2022-06-08T16:08:16.719796",
     "status": "completed"
    },
    "tags": []
   },
   "outputs": [
    {
     "name": "stdout",
     "output_type": "stream",
     "text": [
      "train accuracy = 0.9790419161676647\n",
      "test accuracy = 0.7937219730941704\n"
     ]
    }
   ],
   "source": [
    "from sklearn.ensemble import RandomForestClassifier\n",
    "\n",
    "clf_rf = RandomForestClassifier(random_state=1, n_estimators=20)\n",
    "clf_rf.fit(X_train,y_train)\n",
    "print('train accuracy =',clf_rf.score(X_train,y_train))\n",
    "print('test accuracy =',clf_rf.score(X_test,y_test))"
   ]
  },
  {
   "cell_type": "code",
   "execution_count": 16,
   "id": "6941c70b",
   "metadata": {
    "execution": {
     "iopub.execute_input": "2022-06-08T16:08:16.849434Z",
     "iopub.status.busy": "2022-06-08T16:08:16.848837Z",
     "iopub.status.idle": "2022-06-08T16:08:20.370554Z",
     "shell.execute_reply": "2022-06-08T16:08:20.369261Z"
    },
    "papermill": {
     "duration": 3.538731,
     "end_time": "2022-06-08T16:08:20.373381",
     "exception": false,
     "start_time": "2022-06-08T16:08:16.834650",
     "status": "completed"
    },
    "tags": []
   },
   "outputs": [
    {
     "data": {
      "text/plain": [
       "Text(0.5, 0, 'Number of trees')"
      ]
     },
     "execution_count": 16,
     "metadata": {},
     "output_type": "execute_result"
    },
    {
     "data": {
      "image/png": "[encoded data removed]",
      "text/plain": [
       "<Figure size 432x288 with 1 Axes>"
      ]
     },
     "metadata": {
      "needs_background": "light"
     },
     "output_type": "display_data"
    }
   ],
   "source": [
    "trees = range(50)\n",
    "accuracy=np.zeros(50)\n",
    "for index in range(len(trees)):\n",
    "    clf_rf=RandomForestClassifier(random_state=1,n_estimators=index +1)\n",
    "    clf_rf.fit(X_train,y_train)\n",
    "    accuracy[index]=clf_rf.score(X_test,y_test)\n",
    "\n",
    "plt.plot(trees,accuracy)\n",
    "plt.ylabel('accuracy')\n",
    "plt.xlabel('Number of trees')"
   ]
  },
  {
   "cell_type": "markdown",
   "id": "42216781",
   "metadata": {
    "papermill": {
     "duration": 0.013217,
     "end_time": "2022-06-08T16:08:20.400794",
     "exception": false,
     "start_time": "2022-06-08T16:08:20.387577",
     "status": "completed"
    },
    "tags": []
   },
   "source": [
    "Let's use Grid search to find the best combination of different of parameters"
   ]
  },
  {
   "cell_type": "markdown",
   "id": "4444769e",
   "metadata": {
    "papermill": {
     "duration": 0.015413,
     "end_time": "2022-06-08T16:08:20.433008",
     "exception": false,
     "start_time": "2022-06-08T16:08:20.417595",
     "status": "completed"
    },
    "tags": []
   },
   "source": [
    "#### Grid Search"
   ]
  },
  {
   "cell_type": "code",
   "execution_count": 17,
   "id": "8841d987",
   "metadata": {
    "execution": {
     "iopub.execute_input": "2022-06-08T16:08:20.463190Z",
     "iopub.status.busy": "2022-06-08T16:08:20.462246Z",
     "iopub.status.idle": "2022-06-08T16:08:41.247037Z",
     "shell.execute_reply": "2022-06-08T16:08:41.245728Z"
    },
    "papermill": {
     "duration": 20.802034,
     "end_time": "2022-06-08T16:08:41.249394",
     "exception": false,
     "start_time": "2022-06-08T16:08:20.447360",
     "status": "completed"
    },
    "tags": []
   },
   "outputs": [
    {
     "data": {
      "text/plain": [
       "GridSearchCV(cv=5, estimator=RandomForestClassifier(random_state=1),\n",
       "             param_grid={'min_samples_leaf': [1, 2, 3, 4],\n",
       "                         'min_samples_split': [2, 4, 6, 8],\n",
       "                         'n_estimators': [10, 20, 30, 40]},\n",
       "             scoring='accuracy')"
      ]
     },
     "execution_count": 17,
     "metadata": {},
     "output_type": "execute_result"
    }
   ],
   "source": [
    "from sklearn.model_selection import GridSearchCV\n",
    "params = {'min_samples_leaf':list(range(1,5)),'min_samples_split':list(range(2,10,2)),\n",
    "         'n_estimators':list(range(10,50,10))}\n",
    "clf_rf2=RandomForestClassifier(random_state=1)\n",
    "clf_gs=GridSearchCV(clf_rf2,params,scoring='accuracy',cv=5)\n",
    "clf_gs.fit(X,y)"
   ]
  },
  {
   "cell_type": "code",
   "execution_count": 18,
   "id": "69531a97",
   "metadata": {
    "execution": {
     "iopub.execute_input": "2022-06-08T16:08:41.279049Z",
     "iopub.status.busy": "2022-06-08T16:08:41.278106Z",
     "iopub.status.idle": "2022-06-08T16:08:41.286604Z",
     "shell.execute_reply": "2022-06-08T16:08:41.285237Z"
    },
    "papermill": {
     "duration": 0.02585,
     "end_time": "2022-06-08T16:08:41.289226",
     "exception": false,
     "start_time": "2022-06-08T16:08:41.263376",
     "status": "completed"
    },
    "tags": []
   },
   "outputs": [
    {
     "data": {
      "text/plain": [
       "0.8327976900382902"
      ]
     },
     "execution_count": 18,
     "metadata": {},
     "output_type": "execute_result"
    }
   ],
   "source": [
    "# print the best sore\n",
    "clf_gs.best_score_"
   ]
  },
  {
   "cell_type": "code",
   "execution_count": 19,
   "id": "d0d0a972",
   "metadata": {
    "execution": {
     "iopub.execute_input": "2022-06-08T16:08:41.321054Z",
     "iopub.status.busy": "2022-06-08T16:08:41.320195Z",
     "iopub.status.idle": "2022-06-08T16:08:41.327611Z",
     "shell.execute_reply": "2022-06-08T16:08:41.326376Z"
    },
    "papermill": {
     "duration": 0.025698,
     "end_time": "2022-06-08T16:08:41.330065",
     "exception": false,
     "start_time": "2022-06-08T16:08:41.304367",
     "status": "completed"
    },
    "tags": []
   },
   "outputs": [
    {
     "data": {
      "text/plain": [
       "{'min_samples_leaf': 3, 'min_samples_split': 8, 'n_estimators': 30}"
      ]
     },
     "execution_count": 19,
     "metadata": {},
     "output_type": "execute_result"
    }
   ],
   "source": [
    "# print the best parameters selected\n",
    "clf_gs.best_params_"
   ]
  },
  {
   "cell_type": "markdown",
   "id": "1a74b002",
   "metadata": {
    "papermill": {
     "duration": 0.015159,
     "end_time": "2022-06-08T16:08:41.360741",
     "exception": false,
     "start_time": "2022-06-08T16:08:41.345582",
     "status": "completed"
    },
    "tags": []
   },
   "source": [
    "Let'use these best parameters and check wether they achieve the above cv accuracy"
   ]
  },
  {
   "cell_type": "code",
   "execution_count": 20,
   "id": "db4b9aac",
   "metadata": {
    "execution": {
     "iopub.execute_input": "2022-06-08T16:08:41.389835Z",
     "iopub.status.busy": "2022-06-08T16:08:41.389372Z",
     "iopub.status.idle": "2022-06-08T16:08:41.882044Z",
     "shell.execute_reply": "2022-06-08T16:08:41.880995Z"
    },
    "papermill": {
     "duration": 0.51064,
     "end_time": "2022-06-08T16:08:41.885028",
     "exception": false,
     "start_time": "2022-06-08T16:08:41.374388",
     "status": "completed"
    },
    "tags": []
   },
   "outputs": [
    {
     "name": "stdout",
     "output_type": "stream",
     "text": [
      "train accuracy = 0.8862275449101796\n",
      "test accuracy = 0.7802690582959642\n",
      "cross validation accuracy = 0.8327976900382902\n"
     ]
    }
   ],
   "source": [
    "clf_rf3 = RandomForestClassifier(random_state=1,min_samples_leaf=3,min_samples_split=8,n_estimators=30)\n",
    "clf_rf3.fit(X_train,y_train)\n",
    "print('train accuracy =',clf_rf3.score(X_train,y_train))\n",
    "print('test accuracy =',clf_rf3.score(X_test,y_test))\n",
    "\n",
    "from sklearn.model_selection import cross_val_score\n",
    "scores_rf3 = cross_val_score(clf_rf3,X,y,scoring='accuracy',cv=5)\n",
    "print(\"cross validation accuracy =\", scores_rf3.mean())"
   ]
  },
  {
   "cell_type": "markdown",
   "id": "f8cddfec",
   "metadata": {
    "papermill": {
     "duration": 0.013563,
     "end_time": "2022-06-08T16:08:41.913549",
     "exception": false,
     "start_time": "2022-06-08T16:08:41.899986",
     "status": "completed"
    },
    "tags": []
   },
   "source": [
    "As we can see, grid search allowed us to find the best model parameters to improve our accuracy.\n",
    "Let's see the most important features of this classifier."
   ]
  },
  {
   "cell_type": "code",
   "execution_count": 21,
   "id": "219079a4",
   "metadata": {
    "execution": {
     "iopub.execute_input": "2022-06-08T16:08:41.943760Z",
     "iopub.status.busy": "2022-06-08T16:08:41.943299Z",
     "iopub.status.idle": "2022-06-08T16:08:41.960367Z",
     "shell.execute_reply": "2022-06-08T16:08:41.959528Z"
    },
    "papermill": {
     "duration": 0.035795,
     "end_time": "2022-06-08T16:08:41.962827",
     "exception": false,
     "start_time": "2022-06-08T16:08:41.927032",
     "status": "completed"
    },
    "tags": []
   },
   "outputs": [
    {
     "data": {
      "text/html": [
       "<div>\n",
       "<style scoped>\n",
       "    .dataframe tbody tr th:only-of-type {\n",
       "        vertical-align: middle;\n",
       "    }\n",
       "\n",
       "    .dataframe tbody tr th {\n",
       "        vertical-align: top;\n",
       "    }\n",
       "\n",
       "    .dataframe thead th {\n",
       "        text-align: right;\n",
       "    }\n",
       "</style>\n",
       "<table border=\"1\" class=\"dataframe\">\n",
       "  <thead>\n",
       "    <tr style=\"text-align: right;\">\n",
       "      <th></th>\n",
       "      <th>Importance</th>\n",
       "    </tr>\n",
       "  </thead>\n",
       "  <tbody>\n",
       "    <tr>\n",
       "      <th>Sex</th>\n",
       "      <td>0.366855</td>\n",
       "    </tr>\n",
       "    <tr>\n",
       "      <th>Fare</th>\n",
       "      <td>0.201260</td>\n",
       "    </tr>\n",
       "    <tr>\n",
       "      <th>Age</th>\n",
       "      <td>0.171738</td>\n",
       "    </tr>\n",
       "    <tr>\n",
       "      <th>Pclass</th>\n",
       "      <td>0.117001</td>\n",
       "    </tr>\n",
       "    <tr>\n",
       "      <th>SibSp</th>\n",
       "      <td>0.061253</td>\n",
       "    </tr>\n",
       "    <tr>\n",
       "      <th>Embarked</th>\n",
       "      <td>0.041643</td>\n",
       "    </tr>\n",
       "    <tr>\n",
       "      <th>Parch</th>\n",
       "      <td>0.040251</td>\n",
       "    </tr>\n",
       "  </tbody>\n",
       "</table>\n",
       "</div>"
      ],
      "text/plain": [
       "          Importance\n",
       "Sex         0.366855\n",
       "Fare        0.201260\n",
       "Age         0.171738\n",
       "Pclass      0.117001\n",
       "SibSp       0.061253\n",
       "Embarked    0.041643\n",
       "Parch       0.040251"
      ]
     },
     "execution_count": 21,
     "metadata": {},
     "output_type": "execute_result"
    }
   ],
   "source": [
    "feat_imp = pd.DataFrame(clf_rf3.feature_importances_, predictors, columns=['Importance'])\n",
    "feat_imp.sort_values('Importance',ascending=False)"
   ]
  },
  {
   "cell_type": "markdown",
   "id": "4a0366ef",
   "metadata": {
    "execution": {
     "iopub.execute_input": "2022-06-08T15:35:04.044832Z",
     "iopub.status.busy": "2022-06-08T15:35:04.044423Z",
     "iopub.status.idle": "2022-06-08T15:35:04.067300Z",
     "shell.execute_reply": "2022-06-08T15:35:04.066210Z",
     "shell.execute_reply.started": "2022-06-08T15:35:04.044797Z"
    },
    "papermill": {
     "duration": 0.013637,
     "end_time": "2022-06-08T16:08:41.990395",
     "exception": false,
     "start_time": "2022-06-08T16:08:41.976758",
     "status": "completed"
    },
    "tags": []
   },
   "source": [
    "### Predict on TEST DATA "
   ]
  },
  {
   "cell_type": "code",
   "execution_count": 22,
   "id": "11d9a355",
   "metadata": {
    "execution": {
     "iopub.execute_input": "2022-06-08T16:08:42.021125Z",
     "iopub.status.busy": "2022-06-08T16:08:42.020410Z",
     "iopub.status.idle": "2022-06-08T16:08:42.030821Z",
     "shell.execute_reply": "2022-06-08T16:08:42.029939Z"
    },
    "papermill": {
     "duration": 0.029464,
     "end_time": "2022-06-08T16:08:42.033620",
     "exception": false,
     "start_time": "2022-06-08T16:08:42.004156",
     "status": "completed"
    },
    "tags": []
   },
   "outputs": [
    {
     "data": {
      "text/plain": [
       "PassengerId    0\n",
       "Pclass         0\n",
       "Name           0\n",
       "Sex            0\n",
       "Age            0\n",
       "SibSp          0\n",
       "Parch          0\n",
       "Ticket         0\n",
       "Fare           0\n",
       "Embarked       0\n",
       "dtype: int64"
      ]
     },
     "execution_count": 22,
     "metadata": {},
     "output_type": "execute_result"
    }
   ],
   "source": [
    "df_test.isna().sum()"
   ]
  },
  {
   "cell_type": "code",
   "execution_count": 23,
   "id": "ea77601a",
   "metadata": {
    "execution": {
     "iopub.execute_input": "2022-06-08T16:08:42.063997Z",
     "iopub.status.busy": "2022-06-08T16:08:42.062938Z",
     "iopub.status.idle": "2022-06-08T16:08:42.078434Z",
     "shell.execute_reply": "2022-06-08T16:08:42.077649Z"
    },
    "papermill": {
     "duration": 0.0331,
     "end_time": "2022-06-08T16:08:42.080843",
     "exception": false,
     "start_time": "2022-06-08T16:08:42.047743",
     "status": "completed"
    },
    "tags": []
   },
   "outputs": [],
   "source": [
    "df_submit = df_test.copy()\n",
    "df_test = df_test[predictors]\n",
    "submit_predictions = clf_rf3.predict(df_test)\n",
    "\n",
    "my_submission = pd.DataFrame({'PassengerId': df_submit.PassengerId, 'Survived': submit_predictions})"
   ]
  },
  {
   "cell_type": "markdown",
   "id": "a075a7b6",
   "metadata": {
    "execution": {
     "iopub.execute_input": "2022-06-08T15:36:18.228938Z",
     "iopub.status.busy": "2022-06-08T15:36:18.228094Z",
     "iopub.status.idle": "2022-06-08T15:36:18.232618Z",
     "shell.execute_reply": "2022-06-08T15:36:18.231938Z",
     "shell.execute_reply.started": "2022-06-08T15:36:18.228901Z"
    },
    "papermill": {
     "duration": 0.015034,
     "end_time": "2022-06-08T16:08:42.110334",
     "exception": false,
     "start_time": "2022-06-08T16:08:42.095300",
     "status": "completed"
    },
    "tags": []
   },
   "source": [
    "### Export data"
   ]
  },
  {
   "cell_type": "code",
   "execution_count": 24,
   "id": "794d5ebe",
   "metadata": {
    "execution": {
     "iopub.execute_input": "2022-06-08T16:08:42.141291Z",
     "iopub.status.busy": "2022-06-08T16:08:42.140618Z",
     "iopub.status.idle": "2022-06-08T16:08:42.149347Z",
     "shell.execute_reply": "2022-06-08T16:08:42.148567Z"
    },
    "papermill": {
     "duration": 0.026939,
     "end_time": "2022-06-08T16:08:42.151809",
     "exception": false,
     "start_time": "2022-06-08T16:08:42.124870",
     "status": "completed"
    },
    "tags": []
   },
   "outputs": [],
   "source": [
    "my_submission.to_csv('submission.csv', index=False)"
   ]
  },
  {
   "cell_type": "code",
   "execution_count": null,
   "id": "98081012",
   "metadata": {
    "papermill": {
     "duration": 0.013946,
     "end_time": "2022-06-08T16:08:42.180534",
     "exception": false,
     "start_time": "2022-06-08T16:08:42.166588",
     "status": "completed"
    },
    "tags": []
   },
   "outputs": [],
   "source": []
  }
 ],
 "metadata": {
  "kernelspec": {
   "display_name": "Python 3",
   "language": "python",
   "name": "python3"
  },
  "language_info": {
   "codemirror_mode": {
    "name": "ipython",
    "version": 3
   },
   "file_extension": ".py",
   "mimetype": "text/x-python",
   "name": "python",
   "nbconvert_exporter": "python",
   "pygments_lexer": "ipython3",
   "version": "3.7.12"
  },
  "papermill": {
   "default_parameters": {},
   "duration": 50.192144,
   "end_time": "2022-06-08T16:08:43.117789",
   "environment_variables": {},
   "exception": null,
   "input_path": "__notebook__.ipynb",
   "output_path": "__notebook__.ipynb",
   "parameters": {},
   "start_time": "2022-06-08T16:07:52.925645",
   "version": "2.3.4"
  }
 },
 "nbformat": 4,
 "nbformat_minor": 5
}
